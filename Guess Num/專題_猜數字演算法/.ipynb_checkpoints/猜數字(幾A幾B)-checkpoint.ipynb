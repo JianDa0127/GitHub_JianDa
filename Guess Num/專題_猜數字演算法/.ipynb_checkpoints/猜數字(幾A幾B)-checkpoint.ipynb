{
 "cells": [
  {
   "cell_type": "markdown",
   "metadata": {
    "colab_type": "text",
    "id": "OUrFhA7lw2nl"
   },
   "source": [
    "##排除法"
   ]
  },
  {
   "cell_type": "markdown",
   "metadata": {
    "colab_type": "text",
    "id": "UFn1YzEAd7Jb"
   },
   "source": [
    "####猜數字(幾A幾B) - 全隨機"
   ]
  },
  {
   "cell_type": "markdown",
   "metadata": {
    "colab_type": "text",
    "id": "3kJ__bLsfDd0"
   },
   "source": [
    "AnsData = random from OrigData\n",
    "\n",
    "GuessData = random"
   ]
  },
  {
   "cell_type": "code",
   "execution_count": 0,
   "metadata": {
    "colab": {
     "base_uri": "https://localhost:8080/",
     "height": 552
    },
    "colab_type": "code",
    "id": "OJ7nkCmPd56t",
    "outputId": "9dd17fff-8bb3-480c-a8d6-49b0e669b709"
   },
   "outputs": [
    {
     "name": "stdout",
     "output_type": "stream",
     "text": [
      "LoopTimes=10000\n"
     ]
    },
    {
     "data": {
      "image/png": "[encoded data removed]",
      "text/plain": [
       "<matplotlib.figure.Figure at 0x7fa7a7dbc4e0>"
      ]
     },
     "metadata": {
      "tags": []
     },
     "output_type": "display_data"
    },
    {
     "name": "stdout",
     "output_type": "stream",
     "text": [
      "         1       2         3          4          5          6         7   \\\n",
      "counts  0.0  40.000  448.0000  2624.0000  4593.0000  2088.0000  206.0000   \n",
      "prob.   0.0   0.004    0.0448     0.2624     0.4593     0.2088    0.0206   \n",
      "\n",
      "            8    9    10  \n",
      "counts  1.0000  0.0  0.0  \n",
      "prob.   0.0001  0.0  0.0  \n",
      "Mean = 4.8863\n",
      "Std = 0.8699\n"
     ]
    }
   ],
   "source": [
    "import random as ra\n",
    "import numpy as np\n",
    "import matplotlib.pyplot as plt\n",
    "import pandas as pd\n",
    "\n",
    "#獲取猜測數的A,B值\n",
    "def GetAB(x,y):   \n",
    "    a = len(['' for i in range(4) if x[i] == y[i]])\n",
    "    b = len(set(x)&set(y)) - a \n",
    "    return a,b\n",
    "\n",
    "#主迴圈\n",
    "def Run(LoopTimes):     \n",
    "    CountTimesList=[0 for i in range(10)]\n",
    "    for i in range(LoopTimes):\n",
    "        ans_data = [list(ra.choice(Orig_data))]      #解答資料組合設定為:隨機\n",
    "        for ans in ans_data:\n",
    "            times=0\n",
    "            guess_data = Orig_data        \n",
    "            while 1:\n",
    "                times+=1\n",
    "                guess = list(ra.choice(guess_data))   #猜測資料: 隨機\n",
    "                \n",
    "                #過濾資料\n",
    "                a,b = GetAB(ans, guess)   \n",
    "                guess_data = [num for num in guess_data if (GetAB(num,guess)==(a,b))]\n",
    "                \n",
    "                #將次數加入次數表\n",
    "                if len(guess_data) == 1:   \n",
    "                    CountTimesList[times-1]+=1\n",
    "                    break\n",
    "    return np.array(CountTimesList)\n",
    "\n",
    "#初始化Data\n",
    "Orig_data = list(__import__('itertools').permutations([i for i in range(10)], 4))\n",
    "\n",
    "#測試迴圈數量\n",
    "LoopTimes = int(input('LoopTimes=')) \n",
    "#LoopTimes = 1           \n",
    "\n",
    "#獲取猜測次數表\n",
    "CountTimesList = Run(LoopTimes)\n",
    "\n",
    "#預先設定後面程式常用之變數: 猜測次數表的index、總猜測次數\n",
    "GuessTimesList = np.array([x for x in range(1,11)])\n",
    "AllGuess = sum(CountTimesList)\n",
    "\n",
    "#猜測次數機率表，取到小數第四位\n",
    "GuessTimes_prob = np.around(CountTimesList/AllGuess,decimals=4)\n",
    "\n",
    "#繪製長條圖\n",
    "plt.bar(GuessTimesList,GuessTimes_prob)\n",
    "plt.title('AllRunTimes='+str(AllGuess))\n",
    "plt.xlabel('Times')\n",
    "plt.ylabel('probability')\n",
    "plt.show()\n",
    "\n",
    "#建立表格並輸出\n",
    "df = pd.DataFrame({'counts':CountTimesList,'prob.':GuessTimes_prob}, index=GuessTimesList)\n",
    "print(df.transpose())\n",
    "\n",
    "#計算總平均及標準差\n",
    "StatMean =  sum(CountTimesList * GuessTimesList) / AllGuess\n",
    "StatStd = (sum(GuessTimesList**2*CountTimesList)/sum(CountTimesList) - StatMean**2)**0.5\n",
    "print('Mean = %.4f\\nStd = %.4f'%(StatMean, StatStd))"
   ]
  },
  {
   "cell_type": "markdown",
   "metadata": {
    "colab_type": "text",
    "id": "onXc1j6PehB0"
   },
   "source": [
    "####猜數字(幾A幾B) - 表內順序猜"
   ]
  },
  {
   "cell_type": "markdown",
   "metadata": {
    "colab_type": "text",
    "id": "r3pg4E5ufV6T"
   },
   "source": [
    "AnsData = All of OrigData(共5040組)\n",
    "\n",
    "GuessData = 過濾資料後的第一組"
   ]
  },
  {
   "cell_type": "code",
   "execution_count": 0,
   "metadata": {
    "colab": {
     "base_uri": "https://localhost:8080/",
     "height": 534
    },
    "colab_type": "code",
    "id": "Qc7eeKBioK4x",
    "outputId": "31292003-7b78-419a-d286-ab5338a5c5ea"
   },
   "outputs": [
    {
     "name": "stdout",
     "output_type": "stream",
     "text": [
      "LoopTimes = 1\n"
     ]
    },
    {
     "data": {
      "image/png": "[encoded data removed]",
      "text/plain": [
       "<matplotlib.figure.Figure at 0x7fa7a7dbcba8>"
      ]
     },
     "metadata": {
      "tags": []
     },
     "output_type": "display_data"
    },
    {
     "name": "stdout",
     "output_type": "stream",
     "text": [
      "            1       2         3         4          5          6       7   \\\n",
      "counts  1.0000  15.000  211.0000  1240.000  2108.0000  1203.0000  252.00   \n",
      "prob    0.0002   0.003    0.0419     0.246     0.4183     0.2387    0.05   \n",
      "\n",
      "            8    9    10  \n",
      "counts  10.000  0.0  0.0  \n",
      "prob     0.002  0.0  0.0  \n",
      "Mean=5.0052 Std=0.9487\n"
     ]
    }
   ],
   "source": [
    "import random as ra\n",
    "import numpy as np\n",
    "import matplotlib.pyplot as plt\n",
    "import pandas as pd\n",
    "\n",
    "#獲取猜測數的A,B值\n",
    "def GetAB(set_num,guess_num):   \n",
    "    a = len(['' for i in range(4) if set_num[i] == guess_num[i]])\n",
    "    b = len(set(set_num)&set(guess_num)) - a \n",
    "    return a,b\n",
    "\n",
    "#主迴圈\n",
    "def Run(LoopTimes):     \n",
    "    CountTimesList=[0 for i in range(10)]\n",
    "    for i in range(LoopTimes):\n",
    "        ans_data = Orig_data             #解答資料組合設定為:初始Data\n",
    "        for ans in ans_data:\n",
    "            times=0\n",
    "            guess_data = Orig_data\n",
    "            while 1:\n",
    "                times+=1\n",
    "                guess = guess_data[0]    #猜測資料: 資料過濾後的第一組開始猜\n",
    "                \n",
    "                #過濾資料\n",
    "                a,b = GetAB(ans, guess)\n",
    "                guess_data = [num for num in guess_data if (GetAB(num,guess)==(a,b))]\n",
    "                \n",
    "                #將次數加入次數表\n",
    "                if len(guess_data) == 1:\n",
    "                    CountTimesList[times-1]+=1\n",
    "                    break\n",
    "    return np.array(CountTimesList)\n",
    "\n",
    "#初始化Data\n",
    "Orig_data = list(__import__('itertools').permutations([i for i in range(10)], 4))\n",
    "\n",
    "#測試迴圈數量\n",
    "LoopTimes = 1\n",
    "print('LoopTimes =',LoopTimes)\n",
    "\n",
    "#獲取猜測次數表\n",
    "CountTimesList = Run(LoopTimes)\n",
    "\n",
    "#預先設定後面程式常用之變數: 猜測次數表的index、總猜測次數\n",
    "GuessTimesList = np.array([x for x in range(1,11)])\n",
    "AllGuess = sum(CountTimesList)\n",
    "\n",
    "#猜測次數機率表，取到小數第四位\n",
    "GuessTimes_prob = np.around(CountTimesList/AllGuess,decimals=4)\n",
    "\n",
    "#繪製長條圖\n",
    "plt.bar(GuessTimesList,GuessTimes_prob)\n",
    "plt.title('AllRunTimes='+str(AllGuess))\n",
    "plt.xlabel('Times')\n",
    "plt.ylabel('probability')\n",
    "plt.show()\n",
    "\n",
    "#建立表格並輸出\n",
    "df = pd.DataFrame({'counts':CountTimesList,'prob':GuessTimes_prob}, index=GuessTimesList)\n",
    "print(df.transpose())\n",
    "\n",
    "#計算總平均及標準差\n",
    "StatMean =  sum(CountTimesList * GuessTimesList) / AllGuess\n",
    "StatStd = (sum(GuessTimesList**2*CountTimesList)/sum(CountTimesList) - StatMean**2)**0.5\n",
    "print('Mean=%.4f Std=%.4f'%(StatMean, StatStd))"
   ]
  },
  {
   "cell_type": "markdown",
   "metadata": {
    "colab_type": "text",
    "id": "SJtFnRclveNK"
   },
   "source": [
    "####猜數字(幾A幾B) - 以暴力解求Mean及Std."
   ]
  },
  {
   "cell_type": "markdown",
   "metadata": {
    "colab_type": "text",
    "id": "1P--eJ1wv0za"
   },
   "source": [
    "AnsData = one of OrigData (5040中取1)\n",
    "\n",
    "GuessData = All possible answers\n",
    "\n",
    "(AnsData只取一組的原因，是因為5040組合中，理論上任何數出來的結果都會相同)\n",
    "\n",
    "---\n",
    "\n",
    "理論上程式碼已無bug，但因為程式計算時間過長(預估至少8天以上)，往往程式跑到一半網路不穩，導致必須重新連結網站，所以目前仍未求得正確值。\n",
    "\n",
    "\n",
    "\n"
   ]
  },
  {
   "cell_type": "code",
   "execution_count": 0,
   "metadata": {
    "colab": {},
    "colab_type": "code",
    "id": "9qU-I-BVxMnD"
   },
   "outputs": [],
   "source": [
    "import numpy as np\n",
    "import matplotlib.pyplot as plt\n",
    "import pandas as pd\n",
    "\n",
    "#獲取猜測數的A,B值\n",
    "def GetAB(set_num,guess_num):   \n",
    "  a = len(['' for i in range(4) if set_num[i] == guess_num[i]])\n",
    "  b = len(set(set_num)&set(guess_num)) - a \n",
    "  return a,b\n",
    "\n",
    "#將Data過濾，過濾成相同A,B值的Data\n",
    "def FilterData(guess, data):\n",
    "  global ans\n",
    "  a,b = GetAB(ans, guess)\n",
    "  filter_datas = [num for num in data if (GetAB(num,guess)==(a,b))]\n",
    "  return filter_datas\n",
    "\n",
    "#窮舉法loop\n",
    "def LoopRun(Guess_times,Datas,mLen):\n",
    "    global flag\n",
    "    Guess_times+=1\n",
    "    for guess in Datas:   \n",
    "        guess_data = FilterData(guess,Datas)\n",
    "        \n",
    "        #讓我知道程式還活著，可省略\n",
    "        if Guess_times==1:                                  \n",
    "            flag += 1 \n",
    "            if flag!=1 and (flag-1)%56==0:\n",
    "                print()\n",
    "                print(CountTimesList)\n",
    "                print('guess {}'.format(guess))\n",
    "            print('.',end='')                               \n",
    "        \n",
    "        #避免例外狀況，目前未觸發過\n",
    "        if Guess_times>10:\n",
    "            CountTimesList[Guess_times-1]+=(1.0/mLen*5040)\n",
    "            break\n",
    "        \n",
    "        #如果過濾資料後僅剩一組資料，將 校正後之次數機率 加入 猜測次數表\n",
    "        if len(guess_data)==1:  \n",
    "            CountTimesList[Guess_times-1]+=(1.0/mLen*5040)  #次數機率校正\n",
    "        else:\n",
    "            LoopRun(Guess_times,guess_data,len(guess_data)*mLen)\n",
    "\n",
    "#初始化Data\n",
    "Orig_data = list(__import__('itertools').permutations([i for i in range(10)], 4))\n",
    "\n",
    "#測試迴圈數量\n",
    "print('LoopTimes = 1')\n",
    "\n",
    "#獲取猜測次數表\n",
    "CountTimesList = np.array([0.0000 for i in range(11)])\n",
    "flag = 0        #讓我知道程式還活著，可省略\n",
    "\n",
    "#窮舉法\n",
    "ans = Orig_data[0]\n",
    "print('ans =',ans)\n",
    "LoopRun(0,Orig_data,5040)   #loop\n",
    "\n",
    "#預先設定後面程式常用之變數: 猜測次數表的index、總猜測次數\n",
    "GuessTimesList = np.array([x for x in range(1,11)])\n",
    "AllGuess = sum(CountTimesList)\n",
    "\n",
    "#猜測次數機率表，取到小數第四位\n",
    "GuessTimes_prob = np.around(CountTimesList/AllGuess,decimals=4)\n",
    "\n",
    "#繪製長條圖\n",
    "plt.bar(GuessTimesList,GuessTimes_prob)\n",
    "plt.title('AllRunTimes='+str(AllGuess))\n",
    "plt.xlabel('Times')\n",
    "plt.ylabel('probability')\n",
    "plt.show()\n",
    "\n",
    "#建立表格並輸出\n",
    "df = pd.DataFrame({'counts':CountTimesList,'prob':GuessTimes_prob}, index=GuessTimesList)\n",
    "print(df.transpose())\n",
    "\n",
    "#計算總平均及標準差\n",
    "StatMean =  sum(CountTimesList * GuessTimesList) / AllGuess\n",
    "StatStd = (sum(GuessTimesList**2*CountTimesList)/sum(CountTimesList) - StatMean**2)**0.5\n",
    "print('Mean=%.4f Std=%.4f'%(StatMean, StatStd))"
   ]
  },
  {
   "cell_type": "markdown",
   "metadata": {
    "colab_type": "text",
    "id": "swvO0xJmxSRR"
   },
   "source": [
    "##最大分支法"
   ]
  },
  {
   "cell_type": "markdown",
   "metadata": {
    "colab_type": "text",
    "id": "xLCXUEAGhC2t"
   },
   "source": [
    "####印出分支(資料過濾後第一數)"
   ]
  },
  {
   "cell_type": "markdown",
   "metadata": {
    "colab_type": "text",
    "id": "MH2SQqYXhRBN"
   },
   "source": [
    "透過第55行程式鍵入AB值求分支數，猜測值為過濾後第一個數\n",
    "\n",
    "※並非資料過濾後所有可能數的分支數都會相同，只採計第一個過濾數是因為數值固定且計算較便利"
   ]
  },
  {
   "cell_type": "code",
   "execution_count": 0,
   "metadata": {
    "colab": {
     "base_uri": "https://localhost:8080/",
     "height": 355
    },
    "colab_type": "code",
    "id": "1J1riT-fxW4p",
    "outputId": "0f7eb86a-5035-4efb-e683-f07cdc6bc4fc"
   },
   "outputs": [
    {
     "name": "stdout",
     "output_type": "stream",
     "text": [
      "start:\n",
      "        c00   c01   c02  c03  c04  c10  c11  c12  c13  c20  c21  c22  c30  c40\n",
      "counts  360  1440  1260  264    9  480  720  216    8  180   72    6   24    1\n",
      "trees = 14\n",
      "-----\n",
      "if c22\n",
      "        c00  c01  c02  c03  c04  c10  c11  c12  c13  c20  c21  c22  c30  c40\n",
      "counts    0    0    0    0    1    0    0    0    4    0    0    0    0    1\n",
      "trees = 3\n",
      "-----\n",
      "if c13\n",
      "        c00  c01  c02  c03  c04  c10  c11  c12  c13  c20  c21  c22  c30  c40\n",
      "counts    0    0    0    0    1    0    0    0    2    0    0    0    0    1\n",
      "trees = 3\n",
      "-----\n",
      "if c13\n",
      "        c00  c01  c02  c03  c04  c10  c11  c12  c13  c20  c21  c22  c30  c40\n",
      "counts    0    0    0    0    1    0    0    0    0    0    0    0    0    1\n",
      "trees = 2\n"
     ]
    }
   ],
   "source": [
    "import pandas as pd\n",
    "\n",
    "#獲取AB值\n",
    "def GetAB(x,y):\n",
    "  a = len([0 for i in range(4) if x[i] == y[i]])\n",
    "  b = len(set(x)&set(y)) - a \n",
    "  return str(a)+str(b)\n",
    "\n",
    "#確認分支數、可能解數量\n",
    "def countTrees(guess,sample_data):\n",
    "  \n",
    "    #初始化 可能解之字典\n",
    "    case_dic = {}\n",
    "    case = ['c40','c22','c13','c04','c30','c21','c12','c03','c20','c11','c02','c10','c01','c00']\n",
    "    for i in case:\n",
    "        case_dic[i] = 0\n",
    "        \n",
    "    #新增資料進去字典裡\n",
    "    for num in sample_data:\n",
    "        case_dic['c{}'.format(GetAB(num,guess))]+=1\n",
    "    \n",
    "    #數分支數\n",
    "    trees_count = len([0 for i in case_dic if case_dic[i]!=0])\n",
    "    \n",
    "    #印出字典及分支數\n",
    "    print(pd.DataFrame(case_dic,index=['counts']))\n",
    "    print('trees =',trees_count)\n",
    "\n",
    "#過濾資料\n",
    "def FilterData(guess_datas,ab):\n",
    "    guess = guess_datas[0]\n",
    "    print('-----')\n",
    "    datas = [num for num in guess_datas if (GetAB(num,guess)==ab)]\n",
    "    return datas   \n",
    "\n",
    "#主程式\n",
    "def run(ab_datas):\n",
    "    data = orig_data\n",
    "    for i in ab_datas:\n",
    "        try:\n",
    "            data = FilterData(data,i)\n",
    "            print('if c{}'.format(i))\n",
    "            countTrees(data[0],data) \n",
    "        except:\n",
    "            print('Err')\n",
    "  \n",
    "#Data初始化    \n",
    "orig_data = list(__import__('itertools').permutations([i for i in range(10)], 4))\n",
    "\n",
    "#放初始結果看看\n",
    "print('start:')   \n",
    "countTrees(orig_data[0],orig_data)\n",
    "\n",
    "######可以任意改，唯一測試時會修改的地方######\n",
    "AB_datas = ['22','13','13']    #前一個數字指的是a值，後者則是b值 \n",
    "#'01','01','02','01','01','13'\n",
    "\n",
    "#主迴圈\n",
    "run(AB_datas)"
   ]
  },
  {
   "cell_type": "markdown",
   "metadata": {
    "colab_type": "text",
    "id": "lF_Q4nQIjHoo"
   },
   "source": [
    "####表內最大化分支(第一數)求解"
   ]
  },
  {
   "cell_type": "markdown",
   "metadata": {
    "colab_type": "text",
    "id": "8UI4CP0YtKnR"
   },
   "source": [
    "AnsData = All of OrigData(共5040組)\n",
    "\n",
    "GuessData = 表內(過濾資料後)最大分支數的第一組"
   ]
  },
  {
   "cell_type": "code",
   "execution_count": 0,
   "metadata": {
    "colab": {
     "base_uri": "https://localhost:8080/",
     "height": 536
    },
    "colab_type": "code",
    "id": "rLsLQQhrjMiB",
    "outputId": "cdc3ca5c-76de-4f7d-a40d-66c83556dfaa"
   },
   "outputs": [
    {
     "name": "stdout",
     "output_type": "stream",
     "text": [
      "LoopTimes=1\n"
     ]
    },
    {
     "data": {
      "image/png": "[encoded data removed]",
      "text/plain": [
       "<matplotlib.figure.Figure at 0x7fcdb8cdf400>"
      ]
     },
     "metadata": {
      "tags": []
     },
     "output_type": "display_data"
    },
    {
     "name": "stdout",
     "output_type": "stream",
     "text": [
      "            1       2         3          4          5         6        7   \\\n",
      "counts  1.0000  15.000  240.0000  1538.0000  2509.0000  713.0000  24.0000   \n",
      "prob    0.0002   0.003    0.0476     0.3052     0.4978    0.1415   0.0048   \n",
      "\n",
      "         8    9    10   11  \n",
      "counts  0.0  0.0  0.0  0.0  \n",
      "prob    0.0  0.0  0.0  0.0  \n",
      "Mean=4.7409 Std=0.7867\n"
     ]
    }
   ],
   "source": [
    "import random as ra\n",
    "import numpy as np\n",
    "import matplotlib.pyplot as plt\n",
    "import pandas as pd\n",
    "\n",
    "#獲取猜測數的A,B值\n",
    "def GetAB(set_num,guess_num):   \n",
    "    a = len(['' for i in range(4) if set_num[i] == guess_num[i]])\n",
    "    b = len(set(set_num)&set(guess_num)) - a \n",
    "    return str(a)+str(b)\n",
    "  \n",
    "#數分支數\n",
    "def countTrees(guess,sample_data):\n",
    "  \n",
    "    #初始化 可能解之字典\n",
    "    case_dic = {}\n",
    "    case = ['c40','c22','c13','c04','c30','c21','c12','c03','c20','c11','c02','c10','c01','c00']\n",
    "    for i in case:\n",
    "        case_dic[i] = 0\n",
    "        \n",
    "    #新增資料進去字典裡\n",
    "    for num in sample_data:\n",
    "        case_dic['c{}'.format(GetAB(num,guess))]+=1\n",
    "        \n",
    "    #數分支數\n",
    "    trees_count = len([0 for i in case_dic if case_dic[i]!=0])\n",
    "    return trees_count\n",
    "\n",
    "#找到第一個最多分支猜測值\n",
    "def choseMaxTrees(datas):\n",
    "    tree = 0\n",
    "    ct_data=[]\n",
    "    for data in datas:\n",
    "        ct = countTrees(data,datas)\n",
    "        if ct > tree:\n",
    "            tree = ct\n",
    "            ct_data = data\n",
    "        if tree == 14:\n",
    "            return ct_data\n",
    "    return ct_data\n",
    "\n",
    "#主迴圈\n",
    "def Run(LoopTimes):     \n",
    "    for i in range(LoopTimes):\n",
    "        ans_data = Orig_data\n",
    "        for ans in ans_data:\n",
    "            times=0\n",
    "            guess_data = Orig_data\n",
    "            while 1:\n",
    "                times+=1 \n",
    "                guess = choseMaxTrees(guess_data)   #猜測資料: 資料過濾後的第一組開始猜\n",
    "                   \n",
    "                #過濾資料\n",
    "                ab = GetAB(ans, guess)\n",
    "                guess_data = [num for num in guess_data if (GetAB(num,guess)==ab)]\n",
    "                \n",
    "                #將次數加入次數表\n",
    "                if len(guess_data) == 1:\n",
    "                    CountTimesList[times-1]+=1\n",
    "                    break\n",
    "\n",
    "            \n",
    "#初始化Data\n",
    "Orig_data = list(__import__('itertools').permutations([i for i in range(10)], 4))\n",
    "\n",
    "#測試迴圈數量\n",
    "LoopTimes = int(input('LoopTimes='))\n",
    "#print('LoopTimes =',LoopTimes)\n",
    "\n",
    "#獲取猜測次數表\n",
    "CountTimesList= np.array([0 for x in range(1,12)])\n",
    "Run(LoopTimes)\n",
    "\n",
    "#預先設定後面程式常用之變數: 猜測次數表的index、總猜測次數\n",
    "GuessTimesList = np.array([x for x in range(1,12)])\n",
    "AllGuess = sum(CountTimesList)\n",
    "\n",
    "#猜測次數機率表，取到小數第四位\n",
    "GuessTimes_prob = np.around(CountTimesList/AllGuess,decimals=4)\n",
    "\n",
    "#繪製長條圖\n",
    "plt.bar(GuessTimesList,GuessTimes_prob)\n",
    "plt.title('AllRunTimes='+str(AllGuess))\n",
    "plt.xlabel('Times')\n",
    "plt.ylabel('probability')\n",
    "plt.show()\n",
    "\n",
    "#建立表格並輸出\n",
    "df = pd.DataFrame({'counts':CountTimesList,'prob':GuessTimes_prob}, index=GuessTimesList)\n",
    "print(df.transpose())\n",
    "\n",
    "#計算總平均及標準差\n",
    "StatMean =  sum(CountTimesList * GuessTimesList) / AllGuess\n",
    "StatStd = (sum(GuessTimesList**2*CountTimesList)/sum(CountTimesList) - StatMean**2)**0.5\n",
    "print('Mean=%.4f Std=%.4f'%(StatMean, StatStd))"
   ]
  },
  {
   "cell_type": "markdown",
   "metadata": {
    "colab_type": "text",
    "id": "03QsmABbOU_A"
   },
   "source": [
    "####表外最大化分支(第一數)求解"
   ]
  },
  {
   "cell_type": "markdown",
   "metadata": {
    "colab_type": "text",
    "id": "5evINKVJtgIR"
   },
   "source": [
    "AnsData = All of OrigData(共5040組)\n",
    "\n",
    "GuessData = 表外(OrigData)最大分支數的第一組"
   ]
  },
  {
   "cell_type": "code",
   "execution_count": 0,
   "metadata": {
    "colab": {
     "base_uri": "https://localhost:8080/",
     "height": 55
    },
    "colab_type": "code",
    "id": "XTqbPtAtOYVL",
    "outputId": "77472570-9666-4833-c6cd-e28675801b14"
   },
   "outputs": [
    {
     "name": "stdout",
     "output_type": "stream",
     "text": [
      "......................................................................................................................................................................................................................................................................................................................................................................................................................................................................................"
     ]
    }
   ],
   "source": [
    "import random as ra\n",
    "import numpy as np\n",
    "import matplotlib.pyplot as plt\n",
    "import pandas as pd\n",
    "\n",
    "#獲取猜測數的A,B值\n",
    "def GetAB(set_num,guess_num):   \n",
    "    a = len(['' for i in range(4) if set_num[i] == guess_num[i]])\n",
    "    b = len(set(set_num)&set(guess_num)) - a \n",
    "    return str(a)+str(b)\n",
    "qm\n",
    "#數分支數\n",
    "def countTrees(guess,sample_data):\n",
    "    #初始化 可能解之字典\n",
    "    case_dic = {}\n",
    "    case = ['c40','c22','c13','c04','c30','c21','c12','c03','c20','c11','c02','c10','c01','c00']\n",
    "    for i in case:\n",
    "        case_dic[i] = 0\n",
    "    #新增資料進去字典裡\n",
    "    for num in sample_data:\n",
    "        case_dic['c{}'.format(GetAB(num,guess))]+=1\n",
    "    #數分支數\n",
    "    trees_count = len([0 for i in case_dic if case_dic[i]!=0])\n",
    "    return trees_count\n",
    "  \n",
    "#資料過濾\n",
    "def FilterData(ans,guess,data):\n",
    "  ab = GetAB(ans,guess)\n",
    "  tran_data = [num for num in data if (GetAB(num,guess)==ab)]\n",
    "  return tran_data\n",
    "\n",
    "#找到第一個最多分支猜測值\n",
    "def choseMaxTrees(datas):\n",
    "    tree = 0\n",
    "    ct_data=[]\n",
    "    for data in Orig_data:\n",
    "       \n",
    "        ct = countTrees(data,datas)\n",
    "        if ct > tree:\n",
    "            tree = ct\n",
    "            ct_data = data\n",
    "        if tree == 14:\n",
    "            return ct_data\n",
    "    return ct_data\n",
    "\n",
    "#第一次猜測表\n",
    "def T1_0123(ab,ans,guess_data):\n",
    "    #global flag\n",
    "    if ab=='30'or ab=='20'or ab=='11': guess=[0,2,4,5]\n",
    "    elif ab=='03' or ab=='04': guess=[1,0,3,4] \n",
    "    elif ab=='02': guess=[1,0,4,5]\n",
    "    elif ab=='13'or ab=='21':guess=[0,1,3,4]\n",
    "    elif ab=='12':guess=[0,2,1,4]\n",
    "    elif ab=='10':guess=[0,4,5,6]\n",
    "    elif ab=='01':guess=[1,4,5,6]\n",
    "    elif ab == '00':guess=[4,5,6,7]\n",
    "    elif ab == '22':guess=[0,1,3,2]\n",
    "    else:guess=[0,1,2,3]\n",
    "    return FilterData(ans,guess,guess_data)\n",
    "  \n",
    "#主迴圈\n",
    "def Run(LoopTimes):     \n",
    "    for i in range(LoopTimes):\n",
    "        global flag\n",
    "        ans_data = Orig_data        #解答組合: 全\n",
    "        for ans in ans_data:\n",
    "            times = 0               #計算次數\n",
    "            guess_data = Orig_data  #初始化猜測組合\n",
    "            flag+=1\n",
    "            print('.',end='')\n",
    "            if flag!=1 and (flag-1)%504==0:\n",
    "                print()\n",
    "                print(CountTimesList)\n",
    "            while 1:\n",
    "                times+=1   \n",
    "                if times==1:\n",
    "                    guess = [0,1,2,3]\n",
    "                    ab = GetAB(ans,guess)\n",
    "                    guess_data = T1_0123(ab,ans,guess_data)  #建表增加運算速度，如果可以最好是全部都用建表的. \n",
    "                else:\n",
    "                    guess = choseMaxTrees(guess_data)   #猜測資料: 從最多分支數的第一組開始猜\n",
    "                    guess_data = FilterData(ans, guess,guess_data)\n",
    "                if len(guess_data) == 1:\n",
    "                    CountTimesList[times-1]+=1\n",
    "                    break                \n",
    "\n",
    "#初始化Data\n",
    "Orig_data = list(__import__('itertools').permutations([i for i in range(10)], 4))\n",
    "\n",
    "#測試迴圈數量\n",
    "LoopTimes = int(input('LoopTimes='))\n",
    "#LoopTimes = 1\n",
    "#print('LoopTimes =',LoopTimes)\n",
    "\n",
    "#獲取猜測次數表\n",
    "CountTimesList= np.array([0 for x in range(1,12)])\n",
    "flag=0\n",
    "Run(LoopTimes)\n",
    "\n",
    "#預先設定後面程式常用之變數: 猜測次數表的index、總猜測次數\n",
    "GuessTimesList = np.array([x for x in range(1,12)])\n",
    "AllGuess = sum(CountTimesList)\n",
    "\n",
    "#猜測次數機率表，取到小數第四位\n",
    "GuessTimes_prob = np.around(CountTimesList/AllGuess,decimals=4)\n",
    "\n",
    "#繪製長條圖\n",
    "plt.bar(GuessTimesList,GuessTimes_prob)\n",
    "plt.title('AllRunTimes='+str(AllGuess))\n",
    "plt.xlabel('Times')\n",
    "plt.ylabel('probability')\n",
    "plt.show()\n",
    "\n",
    "#建立表格並輸出\n",
    "df = pd.DataFrame({'counts':CountTimesList,'prob':GuessTimes_prob}, index=GuessTimesList)\n",
    "print(df.transpose())\n",
    "\n",
    "#計算總平均及標準差\n",
    "StatMean =  sum(CountTimesList * GuessTimesList) / AllGuess\n",
    "StatStd = (sum(GuessTimesList**2*CountTimesList)/sum(CountTimesList) - StatMean**2)**0.5\n",
    "print('Mean=%.4f Std=%.4f'%(StatMean, StatStd))"
   ]
  },
  {
   "cell_type": "markdown",
   "metadata": {
    "colab_type": "text",
    "id": "30gdvNwdxEBm"
   },
   "source": [
    "####還可優化的部分\n"
   ]
  },
  {
   "cell_type": "markdown",
   "metadata": {
    "colab_type": "text",
    "id": "qFoDTsoExN2N"
   },
   "source": [
    "由於都只找第一個最大分支的數，沒有再進一步觀察所有最大分支數後面的迴路，''理論上''若尋找完整路徑迴路分支的相乘最大值，應會更進一步提高優化效率。\n",
    "\n",
    "---\n",
    "\n",
    "推論: \n",
    "\n",
    "表外最大化分支相乘解 > 表外最大化分支解>表外最大化第一分支解 > 表內最大化第一分支解 > 表內隨機排除法 >表內第一排除法"
   ]
  },
  {
   "cell_type": "markdown",
   "metadata": {
    "colab_type": "text",
    "id": "Y80HmYCDGZgk"
   },
   "source": [
    "##演算法差異之統計檢定"
   ]
  },
  {
   "cell_type": "markdown",
   "metadata": {
    "colab_type": "text",
    "id": "zVP4k_DYGjPd"
   },
   "source": [
    "暫無"
   ]
  },
  {
   "cell_type": "code",
   "execution_count": 0,
   "metadata": {
    "colab": {
     "base_uri": "https://localhost:8080/",
     "height": 35
    },
    "colab_type": "code",
    "id": "-2aI0mijGcqj",
    "outputId": "5052db35-a17d-40c5-f5e0-e8b718766286"
   },
   "outputs": [
    {
     "name": "stdout",
     "output_type": "stream",
     "text": [
      "10.97634583446663\n"
     ]
    }
   ],
   "source": [
    "\n",
    "z = (4.8950-4.7409) / (((0.8620**2)/10000+(0.7867**2)/5040)**0.5)\n",
    "print(z)"
   ]
  },
  {
   "cell_type": "code",
   "execution_count": null,
   "metadata": {},
   "outputs": [
    {
     "name": "stdout",
     "output_type": "stream",
     "text": [
      "第1次猜題:[5, 4, 3, 9]\n",
      "請輸入A、B值(空格分隔):0 1\n",
      "1440\n",
      "第2次猜題:[2, 1, 7, 4]\n"
     ]
    }
   ],
   "source": [
    "from itertools import permutations\n",
    "from random import choice\n",
    "\n",
    "def Check_AB(X, Y):\n",
    "    A = len([1 for i in range(len(Y)) if Y[i]==X[i]])\n",
    "    B = len(set(Y)&set(X))-A\n",
    "    return A,B\n",
    "\n",
    "Data = list(permutations([ _ for _ in range(10)],4))\n",
    "guessTimes=0\n",
    "while True:\n",
    "    comGuess = list(choice(Data))   #電腦猜的數\n",
    "    guessTimes+=1\n",
    "    print('第{}次猜題:{}'.format(guessTimes,comGuess))\n",
    "    a, b =map(int,input('請輸入A、B值(空格分隔):').split())\n",
    "    Data = [data for data in Data if (Check_AB(data,comGuess)==(a,b))]\n",
    "    print(len(Data))\n",
    "    if len(Data)==1:\n",
    "        break\n",
    "print('你的答案是:{}'.format(Data[0]))"
   ]
  },
  {
   "cell_type": "code",
   "execution_count": null,
   "metadata": {},
   "outputs": [],
   "source": []
  }
 ],
 "metadata": {
  "colab": {
   "collapsed_sections": [
    "jyJNvvsrw_1a",
    "7A2MsgsBwVHB",
    "OUrFhA7lw2nl",
    "UFn1YzEAd7Jb",
    "onXc1j6PehB0",
    "SJtFnRclveNK",
    "swvO0xJmxSRR",
    "xLCXUEAGhC2t",
    "lF_Q4nQIjHoo",
    "03QsmABbOU_A",
    "ux5_DtvOuhg_"
   ],
   "name": "猜數字(幾A幾B).ipynb",
   "provenance": [],
   "version": "0.3.2"
  },
  "kernelspec": {
   "display_name": "Python 3",
   "language": "python",
   "name": "python3"
  },
  "language_info": {
   "codemirror_mode": {
    "name": "ipython",
    "version": 3
   },
   "file_extension": ".py",
   "mimetype": "text/x-python",
   "name": "python",
   "nbconvert_exporter": "python",
   "pygments_lexer": "ipython3",
   "version": "3.8.3"
  }
 },
 "nbformat": 4,
 "nbformat_minor": 1
}
